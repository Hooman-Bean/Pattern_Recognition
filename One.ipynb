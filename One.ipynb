{
 "cells": [
  {
   "cell_type": "code",
   "execution_count": 1,
   "metadata": {},
   "outputs": [],
   "source": [
    "# imports and load_csv def\n",
    "import numpy as np\n",
    "import matplotlib.pyplot as plt\n",
    "import pandas as pd\n",
    "from csv import reader\n",
    "from sklearn.model_selection import train_test_split\n",
    "from sklearn.metrics import classification_report, confusion_matrix\n",
    "from sklearn.svm import SVC\n",
    "import warnings\n",
    "warnings.filterwarnings(\"ignore\")\n",
    "\n",
    "# Load a CSV file\n",
    "def load_csv(filename, skip_header = True, return_names = True):\n",
    "    dataset = list()\n",
    "    labels = list()\n",
    "    names = list()\n",
    "    with open(filename, 'r') as file:\n",
    "        csv_reader = reader(file)\n",
    "        for row in csv_reader:\n",
    "            if not row:\n",
    "                continue\n",
    "            labels.append(row.pop())\n",
    "            dataset.append(row)\n",
    "        if return_names:\n",
    "            names = dataset[0:]\n",
    "        if skip_header:\n",
    "            dataset = dataset[1:]\n",
    "            labels = labels[1:]\n",
    "        if return_names:    \n",
    "            return np.array(dataset, dtype = 'float'), np.array(labels), np.array(names)\n",
    "        else:\n",
    "            return np.array(dataset, dtype = 'float'), np.array(labels)"
   ]
  },
  {
   "cell_type": "code",
   "execution_count": 2,
   "metadata": {},
   "outputs": [],
   "source": [
    "# load data\n",
    "data, labels, names = load_csv('Dry_Bean_Dataset.csv', skip_header = True)\n",
    "X_train, X_test, y_train, y_test = train_test_split(data, labels)"
   ]
  },
  {
   "cell_type": "code",
   "execution_count": 3,
   "metadata": {},
   "outputs": [
    {
     "name": "stdout",
     "output_type": "stream",
     "text": [
      "[[303   0  30   0   3   3   9]\n",
      " [  0 129   0   0   0   0   0]\n",
      " [ 13   0 371   0   7   1   4]\n",
      " [  0   0   0 807   2  20  51]\n",
      " [  2   0  11   4 430   0  15]\n",
      " [  3   0   0  12   0 462  21]\n",
      " [  2   0   4  75  19  15 575]]\n",
      "              precision    recall  f1-score   support\n",
      "\n",
      "    BARBUNYA       0.94      0.87      0.90       348\n",
      "      BOMBAY       1.00      1.00      1.00       129\n",
      "        CALI       0.89      0.94      0.91       396\n",
      "    DERMASON       0.90      0.92      0.91       880\n",
      "       HOROZ       0.93      0.93      0.93       462\n",
      "       SEKER       0.92      0.93      0.92       498\n",
      "        SIRA       0.85      0.83      0.84       690\n",
      "\n",
      "    accuracy                           0.90      3403\n",
      "   macro avg       0.92      0.92      0.92      3403\n",
      "weighted avg       0.90      0.90      0.90      3403\n",
      "\n"
     ]
    }
   ],
   "source": [
    "# Linear SVM\n",
    "svcLinear = SVC(kernel='linear')\n",
    "svcLinear.fit(X_train, y_train)\n",
    "lin_pred = svcLinear.predict(X_test)\n",
    "print(confusion_matrix(y_test, lin_pred))\n",
    "print(classification_report(y_test, lin_pred))"
   ]
  },
  {
   "cell_type": "code",
   "execution_count": 4,
   "metadata": {},
   "outputs": [
    {
     "name": "stdout",
     "output_type": "stream",
     "text": [
      "[[  7   0 228   0 100   2  11]\n",
      " [  0 129   0   0   0   0   0]\n",
      " [  2   0 350   0  43   0   1]\n",
      " [  0   0   0 863   0  17   0]\n",
      " [  2   0  22  25 271  27 115]\n",
      " [  0   0   0 306  11  86  95]\n",
      " [  0   0   0 134  51 139 366]]\n",
      "              precision    recall  f1-score   support\n",
      "\n",
      "    BARBUNYA       0.64      0.02      0.04       348\n",
      "      BOMBAY       1.00      1.00      1.00       129\n",
      "        CALI       0.58      0.88      0.70       396\n",
      "    DERMASON       0.65      0.98      0.78       880\n",
      "       HOROZ       0.57      0.59      0.58       462\n",
      "       SEKER       0.32      0.17      0.22       498\n",
      "        SIRA       0.62      0.53      0.57       690\n",
      "\n",
      "    accuracy                           0.61      3403\n",
      "   macro avg       0.63      0.60      0.56      3403\n",
      "weighted avg       0.59      0.61      0.55      3403\n",
      "\n"
     ]
    }
   ],
   "source": [
    "# SVM with polynomial kernel\n",
    "svcPoly8 = SVC(kernel='poly', degree=8)\n",
    "svcPoly8.fit(X_train, y_train)\n",
    "poly_pred = svcPoly8.predict(X_test)\n",
    "print(confusion_matrix(y_test, poly_pred))\n",
    "print(classification_report(y_test, poly_pred))"
   ]
  },
  {
   "cell_type": "code",
   "execution_count": 5,
   "metadata": {},
   "outputs": [
    {
     "name": "stdout",
     "output_type": "stream",
     "text": [
      "[[ 12   0 234   0  93   0   9]\n",
      " [  0 129   0   0   0   0   0]\n",
      " [  4   0 352   0  39   0   1]\n",
      " [  0   0   0 758   0 101  21]\n",
      " [  4   0  23   8 284  16 127]\n",
      " [  0   0   0 181  12 123 182]\n",
      " [  0   0   0  44  67  87 492]]\n",
      "              precision    recall  f1-score   support\n",
      "\n",
      "    BARBUNYA       0.60      0.03      0.07       348\n",
      "      BOMBAY       1.00      1.00      1.00       129\n",
      "        CALI       0.58      0.89      0.70       396\n",
      "    DERMASON       0.76      0.86      0.81       880\n",
      "       HOROZ       0.57      0.61      0.59       462\n",
      "       SEKER       0.38      0.25      0.30       498\n",
      "        SIRA       0.59      0.71      0.65       690\n",
      "\n",
      "    accuracy                           0.63      3403\n",
      "   macro avg       0.64      0.62      0.59      3403\n",
      "weighted avg       0.62      0.63      0.59      3403\n",
      "\n"
     ]
    }
   ],
   "source": [
    "# SVM with Gaussian kernel\n",
    "svcGaus = SVC(kernel='rbf')\n",
    "svcGaus.fit(X_train, y_train)\n",
    "gaus_pred = svcGaus.predict(X_test)\n",
    "print(confusion_matrix(y_test, gaus_pred))\n",
    "print(classification_report(y_test, gaus_pred))"
   ]
  },
  {
   "cell_type": "code",
   "execution_count": 6,
   "metadata": {},
   "outputs": [
    {
     "name": "stdout",
     "output_type": "stream",
     "text": [
      "[[  2   0   0   2   0   0 344]\n",
      " [  0   0   0 129   0   0   0]\n",
      " [  1   0   0   4   0   2 389]\n",
      " [ 48 224   0 515   0  62  31]\n",
      " [ 30   5   0   1   0   8 418]\n",
      " [105 145   0  22   0  65 161]\n",
      " [181  38   0   2   0  32 437]]\n",
      "              precision    recall  f1-score   support\n",
      "\n",
      "    BARBUNYA       0.01      0.01      0.01       348\n",
      "      BOMBAY       0.00      0.00      0.00       129\n",
      "        CALI       0.00      0.00      0.00       396\n",
      "    DERMASON       0.76      0.59      0.66       880\n",
      "       HOROZ       0.00      0.00      0.00       462\n",
      "       SEKER       0.38      0.13      0.19       498\n",
      "        SIRA       0.25      0.63      0.35       690\n",
      "\n",
      "    accuracy                           0.30      3403\n",
      "   macro avg       0.20      0.19      0.17      3403\n",
      "weighted avg       0.30      0.30      0.27      3403\n",
      "\n"
     ]
    }
   ],
   "source": [
    "# SVM with Sigmoid kernel\n",
    "svcSigmoid = SVC(kernel='sigmoid')\n",
    "svcSigmoid.fit(X_train, y_train)\n",
    "sig_pred = svcSigmoid.predict(X_test)\n",
    "print(confusion_matrix(y_test, sig_pred))\n",
    "print(classification_report(y_test, sig_pred))"
   ]
  },
  {
   "cell_type": "code",
   "execution_count": 7,
   "metadata": {},
   "outputs": [],
   "source": [
    "# Linear SVM classifier had the best accuracy of: 0.90"
   ]
  }
 ],
 "metadata": {
  "kernelspec": {
   "display_name": "Python 3 (ipykernel)",
   "language": "python",
   "name": "python3"
  },
  "language_info": {
   "codemirror_mode": {
    "name": "ipython",
    "version": 3
   },
   "file_extension": ".py",
   "mimetype": "text/x-python",
   "name": "python",
   "nbconvert_exporter": "python",
   "pygments_lexer": "ipython3",
   "version": "3.9.12"
  },
  "vscode": {
   "interpreter": {
    "hash": "1a42a9ca17e2b11855b835201fd180d2723bca5dd676006b1a553861861e67e0"
   }
  }
 },
 "nbformat": 4,
 "nbformat_minor": 4
}
