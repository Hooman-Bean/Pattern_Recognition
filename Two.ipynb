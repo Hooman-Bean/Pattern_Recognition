{
 "cells": [
  {
   "cell_type": "code",
   "execution_count": 1,
   "id": "4dc244c3-b3b7-4105-8940-ee108a5debfd",
   "metadata": {},
   "outputs": [],
   "source": [
    "import numpy as np\n",
    "import pandas as pd\n",
    "from sklearn.preprocessing import LabelEncoder\n",
    "from sklearn.model_selection import train_test_split\n",
    "from sklearn.metrics import accuracy_score, f1_score\n",
    "import warnings\n",
    "warnings.filterwarnings(\"ignore\")"
   ]
  },
  {
   "cell_type": "code",
   "execution_count": 2,
   "id": "da0743a5-e970-4848-85e4-fca2bcb48898",
   "metadata": {},
   "outputs": [],
   "source": [
    "#dry_beans_dataset = pd.read_csv(\"Dry_Bean_Dataset.csv\")\n",
    "bean_data = pd.read_csv(\"Dry_Bean_Dataset.csv\")\n",
    "\n",
    "# Encode the Class values as integers\n",
    "from sklearn.preprocessing import LabelEncoder\n",
    "encoder = LabelEncoder()\n",
    "encoder.fit(bean_data['Class'])\n",
    "encoded_Y = encoder.transform(bean_data['Class'])\n",
    "\n",
    "from sklearn.model_selection import train_test_split\n",
    "X_train, X_test, y_train, y_test = train_test_split(bean_data.drop('Class', axis=1), encoded_Y, test_size=0.3, random_state=101)"
   ]
  },
  {
   "cell_type": "code",
   "execution_count": 3,
   "id": "add30380-5114-4c39-9866-5bd57ca6ea4b",
   "metadata": {},
   "outputs": [
    {
     "data": {
      "text/plain": [
       "MLPClassifier()"
      ]
     },
     "execution_count": 3,
     "metadata": {},
     "output_type": "execute_result"
    }
   ],
   "source": [
    "# build NN model with unscaled data\n",
    "from sklearn.neural_network import MLPClassifier\n",
    "nn = MLPClassifier()\n",
    "nn.fit(X_train, y_train)"
   ]
  },
  {
   "cell_type": "code",
   "execution_count": 4,
   "id": "72d9da78-4290-4630-b670-531cb1f97f27",
   "metadata": {},
   "outputs": [
    {
     "data": {
      "text/plain": [
       "LogisticRegression()"
      ]
     },
     "execution_count": 4,
     "metadata": {},
     "output_type": "execute_result"
    }
   ],
   "source": [
    "# build Logistic Regression model with unscaled data\n",
    "from sklearn.linear_model import LogisticRegression\n",
    "#create a new logistic regression model\n",
    "log_reg = LogisticRegression()\n",
    "#fit the model to the training data\n",
    "log_reg.fit(X_train, y_train)"
   ]
  },
  {
   "cell_type": "code",
   "execution_count": 5,
   "id": "5124cfb2-5481-442e-9bb2-6179820eb4dc",
   "metadata": {},
   "outputs": [
    {
     "name": "stdout",
     "output_type": "stream",
     "text": [
      "Neural Network unscaled data accuracy:  0.3751224289911851\n",
      "Logistic Regression unscaled data accuracy:  0.7029872673849168\n"
     ]
    }
   ],
   "source": [
    "# check accuracies of individual models with unscaled data\n",
    "print(\"Neural Network unscaled data accuracy: \", nn.score(X_test, y_test))\n",
    "print(\"Logistic Regression unscaled data accuracy: \", log_reg.score(X_test, y_test))"
   ]
  },
  {
   "cell_type": "code",
   "execution_count": 6,
   "id": "13d4ffa8-ce7b-4465-95a1-d36bfea4bb1d",
   "metadata": {},
   "outputs": [],
   "source": [
    "# Scale the data\n",
    "from sklearn.preprocessing import StandardScaler\n",
    "X_scaler = StandardScaler()\n",
    "X_scaler.fit(X_train)\n",
    "X_train = X_scaler.transform(X_train)\n",
    "X_test = X_scaler.transform(X_test)\n"
   ]
  },
  {
   "cell_type": "code",
   "execution_count": 7,
   "id": "aafe79ad-b2bb-46c5-8165-5a04900f861e",
   "metadata": {},
   "outputs": [
    {
     "data": {
      "text/plain": [
       "MLPClassifier()"
      ]
     },
     "execution_count": 7,
     "metadata": {},
     "output_type": "execute_result"
    }
   ],
   "source": [
    "# build Neural Network model with scaled data\n",
    "from sklearn.neural_network import MLPClassifier\n",
    "nn = MLPClassifier()\n",
    "nn.fit(X_train, y_train)"
   ]
  },
  {
   "cell_type": "code",
   "execution_count": 8,
   "id": "59611e3a-efa6-4698-90e1-16cba419b65d",
   "metadata": {},
   "outputs": [
    {
     "data": {
      "text/plain": [
       "LogisticRegression()"
      ]
     },
     "execution_count": 8,
     "metadata": {},
     "output_type": "execute_result"
    }
   ],
   "source": [
    "# build Logistic Regression model with scaled data\n",
    "from sklearn.linear_model import LogisticRegression\n",
    "log_reg = LogisticRegression()\n",
    "log_reg.fit(X_train, y_train)"
   ]
  },
  {
   "cell_type": "code",
   "execution_count": 9,
   "id": "e24b259e-418c-488d-836c-a15afeb6d915",
   "metadata": {},
   "outputs": [
    {
     "name": "stdout",
     "output_type": "stream",
     "text": [
      "Neural Network scaled data accuracy:  0.9299706170421156\n",
      "Logistic Regression scaled data accuracy:  0.9223800195886386\n"
     ]
    }
   ],
   "source": [
    "# check accuracies of individual models with scaled data\n",
    "print(\"Neural Network scaled data accuracy: \", nn.score(X_test, y_test))\n",
    "print(\"Logistic Regression scaled data accuracy: \", log_reg.score(X_test, y_test))"
   ]
  },
  {
   "cell_type": "code",
   "execution_count": 10,
   "id": "a26cbf98-839c-4c0f-81a5-be17b643bde9",
   "metadata": {},
   "outputs": [],
   "source": [
    "#Neural Network classifier with scaled data had the best accuracy of: 0.9299706170421156"
   ]
  }
 ],
 "metadata": {
  "kernelspec": {
   "display_name": "Python 3 (ipykernel)",
   "language": "python",
   "name": "python3"
  },
  "language_info": {
   "codemirror_mode": {
    "name": "ipython",
    "version": 3
   },
   "file_extension": ".py",
   "mimetype": "text/x-python",
   "name": "python",
   "nbconvert_exporter": "python",
   "pygments_lexer": "ipython3",
   "version": "3.9.12"
  }
 },
 "nbformat": 4,
 "nbformat_minor": 5
}
